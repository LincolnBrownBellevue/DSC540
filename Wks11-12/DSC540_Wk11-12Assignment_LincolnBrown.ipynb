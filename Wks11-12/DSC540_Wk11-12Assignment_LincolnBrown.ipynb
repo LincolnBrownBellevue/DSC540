{
 "cells": [
  {
   "cell_type": "markdown",
   "metadata": {},
   "source": [
    "## Wks 11-12 Assignment\n",
    "## Lincoln Brown\n",
    "## DSC540-T301 \n",
    "## Professor Williams"
   ]
  },
  {
   "cell_type": "code",
   "execution_count": 1,
   "metadata": {},
   "outputs": [],
   "source": [
    "# Import libraries\n",
    "import pandas as pd\n",
    "import sqlite3\n"
   ]
  },
  {
   "cell_type": "markdown",
   "metadata": {},
   "source": [
    "## Step 1\n",
    "Connect to the petsDB and check whether the connection has been successful"
   ]
  },
  {
   "cell_type": "code",
   "execution_count": 9,
   "metadata": {},
   "outputs": [],
   "source": [
    "# Create a function to check the status of the database connection\n",
    "def check_connection(conn):\n",
    "    try:\n",
    "        conn.cursor()\n",
    "        print(\"Connection Sucessful\")\n",
    "    except Exception as e:\n",
    "        print(\"Connection Failed\")\n",
    "        "
   ]
  },
  {
   "cell_type": "code",
   "execution_count": 102,
   "metadata": {},
   "outputs": [
    {
     "name": "stdout",
     "output_type": "stream",
     "text": [
      "Connection Sucessful\n"
     ]
    }
   ],
   "source": [
    "# Connect to the database and verify it is connected \n",
    "with sqlite3.connect(\"petsdb\") as conn:\n",
    "    cursor = conn.cursor()\n",
    "    check_connection(conn)"
   ]
  },
  {
   "cell_type": "code",
   "execution_count": 20,
   "metadata": {},
   "outputs": [
    {
     "name": "stdout",
     "output_type": "stream",
     "text": [
      "['id', 'first_name', 'last_name', 'age', 'city', 'zip_code']\n",
      "(1, 'Erica', None, 22, 'south port', 2345678)\n",
      "(2, 'Jordi', None, 73, 'east port', 123456)\n",
      "(3, 'Chasity', None, 70, 'new port', 76856785)\n",
      "(4, 'Gregg', None, 31, 'new port', 76856785)\n",
      "(5, 'Tony', 'Lindgren', 7, 'west port', 2345678)\n",
      "(6, 'Cary', None, 73, 'new port', 76856785)\n",
      "(7, 'Gabe', 'Thompson', 54, 'new port', 9756543)\n",
      "(8, 'Francisca', None, 14, 'west port', 123456)\n",
      "(9, 'Katelyn', 'Torphy', 49, 'east port', 9756543)\n",
      "(10, 'Raleigh', None, 68, 'new port', 2345678)\n",
      "(11, 'Maria', None, 42, 'west port', 123456)\n",
      "(12, 'Mariane', None, 62, 'south port', 9756543)\n",
      "(13, 'Mona', None, 44, 'south port', 76856785)\n",
      "(14, 'Kayla', None, 36, 'south port', 2345678)\n",
      "(15, 'Karlie', None, 35, 'west port', 123456)\n",
      "(16, 'Morris', None, 71, 'west port', 76856785)\n",
      "(17, 'Sandy', None, 23, 'east port', 2345678)\n",
      "(18, 'Hector', None, 63, 'east port', 9756543)\n",
      "(19, 'Hiram', None, 52, 'west port', 2345678)\n",
      "(20, 'Tressa', None, 59, 'new port', 123456)\n",
      "(21, 'Berry', None, 22, 'south port', 2345678)\n",
      "(22, 'Pearline', None, 73, 'new port', 9756543)\n",
      "(23, 'Maynard', None, 25, 'east port', 123456)\n",
      "(24, 'Dorian', None, 40, 'east port', 123456)\n",
      "(25, 'Mylene', None, 5, 'east port', 76856785)\n",
      "(26, 'Lafayette', None, 34, 'new port', 2345678)\n",
      "(27, 'Friedrich', 'Wunsch', 48, 'east port', 9756543)\n",
      "(28, 'Domenica', 'Lakin', 13, 'west port', 76856785)\n",
      "(29, 'Tara', None, 39, 'west port', 123456)\n",
      "(30, 'Destiny', None, 18, 'south port', 2345678)\n",
      "(31, 'Lesly', None, 31, 'west port', 123456)\n",
      "(32, 'Perry', None, 19, 'south port', 76856785)\n",
      "(33, 'Keyon', 'Upton', 51, 'south port', 123456)\n",
      "(34, 'Jacquelyn', 'Bradtke', 54, 'south port', 123456)\n",
      "(35, 'Maritza', None, 73, 'east port', 9756543)\n",
      "(36, 'Ivory', 'Sawayn', 8, 'south port', 76856785)\n",
      "(37, 'Grant', None, 61, 'east port', 76856785)\n",
      "(38, 'Salma', 'Terry', 71, 'west port', 123456)\n",
      "(39, 'Laury', None, 17, 'east port', 9756543)\n",
      "(40, 'Name', None, 52, 'east port', 9756543)\n",
      "(41, 'Estefania', None, 32, 'new port', 76856785)\n",
      "(42, 'Destiney', None, 65, 'west port', 2345678)\n",
      "(43, 'Jaquelin', None, 73, 'west port', 9756543)\n",
      "(44, 'Brenda', 'Murray', 62, 'south port', 2345678)\n",
      "(45, 'Alfonzo', None, 16, 'east port', 2345678)\n",
      "(46, 'Lisandro', None, 11, 'new port', 76856785)\n",
      "(47, 'Lurline', 'Becker', 24, 'west port', 76856785)\n",
      "(48, 'Timmothy', 'Tillman', 12, 'new port', 76856785)\n",
      "(49, 'Priscilla', None, 65, 'east port', 76856785)\n",
      "(50, 'Elenora', None, 11, 'new port', 76856785)\n",
      "(51, 'Wendell', 'Sauer', 39, 'south port', 76856785)\n",
      "(52, 'Rudolph', None, 14, 'east port', 76856785)\n",
      "(53, 'Gabriella', 'Kertzmann', 30, 'south port', 76856785)\n",
      "(54, 'Citlalli', 'Pollich', 18, 'west port', 2345678)\n",
      "(55, 'Dax', 'Romaguera', 23, 'west port', 123456)\n",
      "(56, 'Ona', None, 35, 'east port', 9756543)\n",
      "(57, 'Rebeca', None, 50, 'new port', 76856785)\n",
      "(58, 'Lou', 'Bradtke', 71, 'south port', 2345678)\n",
      "(59, 'Sigurd', None, 12, 'west port', 76856785)\n",
      "(60, 'Nicklaus', 'Purdy', 72, 'new port', 2345678)\n",
      "(61, 'Destiney', 'Sauer', 24, 'west port', 2345678)\n",
      "(62, 'Cassidy', 'Crona', 18, 'east port', 123456)\n",
      "(63, 'Alice', None, 8, 'west port', 76856785)\n",
      "(64, 'Dane', None, 24, 'west port', 9756543)\n",
      "(65, 'Judge', None, 17, 'south port', 76856785)\n",
      "(66, 'Allene', None, 9, 'new port', 9756543)\n",
      "(67, 'Jalen', None, 33, 'new port', 2345678)\n",
      "(68, 'Aniyah', 'Grant', 27, 'new port', 9756543)\n",
      "(69, 'Ashton', 'Schaden', 25, 'west port', 2345678)\n",
      "(70, 'Myron', None, 36, 'new port', 9756543)\n",
      "(71, 'Presley', 'Gleason', 58, 'new port', 9756543)\n",
      "(72, 'Ephraim', 'Kihn', 67, 'south port', 123456)\n",
      "(73, 'Travon', None, 16, 'south port', 2345678)\n",
      "(74, 'Shayna', None, 60, 'new port', 2345678)\n",
      "(75, 'Myah', None, 14, 'east port', 2345678)\n",
      "(76, 'Sammy', 'Franecki', 53, 'south port', 76856785)\n",
      "(77, 'Ebba', 'Kihn', 34, 'west port', 2345678)\n",
      "(78, 'Leilani', 'Gislason', 53, 'south port', 123456)\n",
      "(79, 'Isabel', 'Beier', 74, 'west port', 2345678)\n",
      "(80, 'Jo', 'DuBuque', 68, 'west port', 76856785)\n",
      "(81, 'Angel', 'Mraz', 37, 'west port', 123456)\n",
      "(82, 'Letha', None, 44, 'new port', 9756543)\n",
      "(83, 'Lily', 'Hegmann', 12, 'east port', 123456)\n",
      "(84, 'Felton', None, 74, 'east port', 2345678)\n",
      "(85, 'London', None, 66, 'east port', 9756543)\n",
      "(86, 'Koby', None, 31, 'west port', 9756543)\n",
      "(87, 'Golden', None, 35, 'east port', 76856785)\n",
      "(88, 'Elfrieda', 'Nikolaus', 36, 'west port', 2345678)\n",
      "(89, 'Anissa', None, 8, 'south port', 76856785)\n",
      "(90, 'Mathew', 'Luettgen', 71, 'east port', 2345678)\n",
      "(91, 'Sid', None, 22, 'west port', 123456)\n",
      "(92, 'Micheal', 'Schuppe', 6, 'west port', 9756543)\n",
      "(93, 'Joanie', 'Cassin', 68, 'new port', 76856785)\n",
      "(94, 'Jerad', 'Pfeffer', 74, 'west port', 123456)\n",
      "(95, 'Benjamin', 'Lowe', 51, 'south port', 9756543)\n",
      "(96, 'Ernesto', None, 69, 'east port', 9756543)\n",
      "(97, 'Josianne', None, 14, 'west port', 76856785)\n",
      "(98, 'Hilma', 'Waelchi', 48, 'east port', 9756543)\n",
      "(99, 'Otilia', 'Gleason', 66, 'new port', 9756543)\n",
      "(100, 'Adrian', 'Schinner', 5, 'south port', 76856785)\n"
     ]
    }
   ],
   "source": [
    "# View the tables\n",
    "# Print persons DB\n",
    "persons_rows = cursor.execute(\"SELECT * FROM persons\")\n",
    "col_names = list(map(lambda x: x[0], cursor.description))\n",
    "print(col_names)\n",
    "for row in persons_rows:\n",
    "    print(row)"
   ]
  },
  {
   "cell_type": "code",
   "execution_count": 21,
   "metadata": {},
   "outputs": [
    {
     "name": "stdout",
     "output_type": "stream",
     "text": [
      "['owner_id', 'pet_name', 'pet_type', 'treatment_done']\n",
      "(57, 'mani', 1.0, 0)\n",
      "(80, 'tamari', None, 0)\n",
      "(25, 'raba', None, 0)\n",
      "(27, 'olga', None, 0)\n",
      "(60, 'raba', None, 0)\n",
      "(37, 'dara', 1.0, 0)\n",
      "(33, 'chegal', 1.0, 0)\n",
      "(16, 'dara', None, 0)\n",
      "(100, 'chegal', None, 0)\n",
      "(46, 'raba', None, 1)\n",
      "(21, 'tamari', 1.0, 0)\n",
      "(94, 'snoopy', 1.0, 1)\n",
      "(100, 'bulga', None, 1)\n",
      "(5, 'fenga', None, 0)\n",
      "(24, 'palu', None, 0)\n",
      "(16, 'fenga', 1.0, 1)\n",
      "(48, 'snoopy', None, 0)\n",
      "(27, 'gimir', 1.0, 0)\n",
      "(67, 'raba', None, 0)\n",
      "(31, 'chegal', 1.0, 1)\n",
      "(14, 'unsa', 1.0, 0)\n",
      "(40, 'sapi', None, 0)\n",
      "(25, 'bhukbhuk', None, 0)\n",
      "(42, 'dara', None, 0)\n",
      "(45, 'sami', None, 1)\n",
      "(27, 'bulga', 1.0, 0)\n",
      "(20, 'olga', None, 0)\n",
      "(8, 'chegal', None, 0)\n",
      "(45, 'nani', 1.0, 0)\n",
      "(56, 'deru', None, 0)\n",
      "(64, 'milu', 1.0, 0)\n",
      "(2, 'mani', 1.0, 0)\n",
      "(36, 'dara', None, 0)\n",
      "(89, 'sapi', None, 0)\n",
      "(28, 'mani', 1.0, 0)\n",
      "(95, 'deru', None, 0)\n",
      "(26, 'mani', None, 1)\n",
      "(60, 'helu', 1.0, 0)\n",
      "(10, 'snoopy', 1.0, 0)\n",
      "(25, 'milu', None, 0)\n",
      "(6, 'milu', 1.0, 0)\n",
      "(31, 'fenga', None, 0)\n",
      "(18, 'deru', None, 0)\n",
      "(6, 'deru', 1.0, 1)\n",
      "(35, 'milu', None, 0)\n",
      "(42, 'deru', None, 1)\n",
      "(21, 'chegal', None, 1)\n",
      "(83, 'olga', None, 0)\n",
      "(69, 'raba', 1.0, 1)\n",
      "(88, 'chegal', 1.0, 0)\n",
      "(13, 'gimir', None, 0)\n",
      "(82, 'unsa', 1.0, 1)\n",
      "(27, 'unsa', None, 0)\n",
      "(38, 'raba', None, 0)\n",
      "(23, 'snoopy', 1.0, 1)\n",
      "(71, 'bulga', None, 0)\n",
      "(64, 'palu', 1.0, 0)\n",
      "(43, 'tamari', None, 0)\n",
      "(79, 'gimir', None, 0)\n",
      "(9, 'gimir', None, 0)\n",
      "(98, 'bulga', 1.0, 1)\n",
      "(43, 'helu', None, 0)\n",
      "(10, 'nani', 1.0, 0)\n",
      "(33, 'tamari', None, 0)\n",
      "(32, 'gimir', 1.0, 0)\n",
      "(37, 'helu', None, 0)\n",
      "(28, 'fenga', None, 0)\n",
      "(57, 'mani', 1.0, 0)\n",
      "(97, 'palu', 1.0, 1)\n",
      "(38, 'sami', 1.0, 0)\n",
      "(81, 'milu', 1.0, 0)\n",
      "(2, 'gimir', 1.0, 0)\n",
      "(68, 'gimir', None, 1)\n",
      "(99, 'milu', None, 1)\n",
      "(7, 'olga', 1.0, 0)\n",
      "(3, 'tamari', None, 1)\n",
      "(40, 'palu', 1.0, 0)\n",
      "(27, 'bulga', 1.0, 0)\n",
      "(85, 'milu', None, 0)\n",
      "(9, 'palu', 1.0, 0)\n",
      "(15, 'nani', 1.0, 0)\n",
      "(98, 'sami', None, 0)\n",
      "(90, 'mani', 1.0, 1)\n",
      "(41, 'mani', 1.0, 1)\n",
      "(35, 'dara', 1.0, 1)\n",
      "(13, 'dara', 1.0, 0)\n",
      "(12, 'unsa', None, 0)\n",
      "(99, 'helu', None, 0)\n",
      "(56, 'unsa', None, 1)\n",
      "(91, 'unsa', None, 0)\n",
      "(7, 'unsa', None, 0)\n",
      "(53, 'sami', 1.0, 1)\n",
      "(33, 'helu', None, 0)\n",
      "(17, 'palu', 1.0, 0)\n",
      "(86, 'milu', 1.0, 0)\n",
      "(64, 'chegal', None, 1)\n",
      "(53, 'chegal', None, 0)\n",
      "(14, 'chegal', 1.0, 0)\n",
      "(20, 'fenga', 1.0, 0)\n",
      "(49, 'sami', 1.0, 0)\n",
      "(51, 'bulga', None, 0)\n",
      "(1, 'raba', None, 1)\n",
      "(51, 'bhukbhuk', 1.0, 0)\n",
      "(18, 'milu', None, 0)\n",
      "(99, 'snoopy', 1.0, 0)\n",
      "(57, 'snoopy', None, 1)\n",
      "(21, 'mani', 1.0, 0)\n",
      "(39, 'sapi', None, 0)\n",
      "(84, 'chegal', None, 1)\n",
      "(5, 'dara', 1.0, 0)\n",
      "(47, 'sapi', None, 0)\n",
      "(98, 'helu', 1.0, 0)\n",
      "(2, 'tamari', None, 1)\n",
      "(37, 'nani', None, 0)\n",
      "(39, 'dara', None, 0)\n",
      "(37, 'sami', None, 0)\n",
      "(50, 'bulga', 1.0, 0)\n",
      "(50, 'milu', None, 0)\n",
      "(35, 'chegal', None, 0)\n",
      "(5, 'dara', None, 0)\n",
      "(40, 'chegal', None, 0)\n",
      "(42, 'snoopy', None, 0)\n",
      "(58, 'sapi', 1.0, 0)\n",
      "(73, 'olga', None, 1)\n",
      "(58, 'sapi', 1.0, 0)\n",
      "(43, 'palu', None, 0)\n",
      "(36, 'snoopy', 1.0, 0)\n",
      "(11, 'fenga', None, 0)\n",
      "(56, 'milu', None, 1)\n",
      "(56, 'sapi', None, 1)\n",
      "(60, 'bhukbhuk', 1.0, 0)\n",
      "(7, 'helu', None, 1)\n",
      "(56, 'olga', None, 0)\n",
      "(10, 'sapi', 1.0, 1)\n",
      "(24, 'fenga', None, 1)\n",
      "(55, 'tamari', None, 0)\n",
      "(67, 'palu', None, 0)\n",
      "(44, 'sami', 1.0, 0)\n",
      "(93, 'palu', 1.0, 0)\n",
      "(50, 'tamari', None, 0)\n",
      "(49, 'fenga', 1.0, 0)\n",
      "(40, 'milu', 1.0, 0)\n",
      "(48, 'nani', 1.0, 0)\n",
      "(51, 'bhukbhuk', None, 0)\n",
      "(77, 'sami', 1.0, 1)\n",
      "(86, 'fenga', 1.0, 0)\n",
      "(87, 'palu', 1.0, 0)\n",
      "(26, 'snoopy', 1.0, 0)\n",
      "(36, 'nani', 1.0, 0)\n",
      "(22, 'helu', 1.0, 1)\n"
     ]
    }
   ],
   "source": [
    "# Print pets DB\n",
    "pets_rows = cursor.execute(\"SELECT * FROM pets\")\n",
    "col_names = list(map(lambda x: x[0], cursor.description))\n",
    "print(col_names)\n",
    "for row in pets_rows:\n",
    "    print(row)"
   ]
  },
  {
   "cell_type": "markdown",
   "metadata": {},
   "source": [
    "## Step 2 \n",
    "Find the different age groups in the persons database"
   ]
  },
  {
   "cell_type": "code",
   "execution_count": 36,
   "metadata": {},
   "outputs": [
    {
     "name": "stdout",
     "output_type": "stream",
     "text": [
      "There are 2 people aged 5\n",
      "There are 1 people aged 6\n",
      "There are 1 people aged 7\n",
      "There are 3 people aged 8\n",
      "There are 1 people aged 9\n",
      "There are 2 people aged 11\n",
      "There are 3 people aged 12\n",
      "There are 1 people aged 13\n",
      "There are 4 people aged 14\n",
      "There are 2 people aged 16\n",
      "There are 2 people aged 17\n",
      "There are 3 people aged 18\n",
      "There are 1 people aged 19\n",
      "There are 3 people aged 22\n",
      "There are 2 people aged 23\n",
      "There are 3 people aged 24\n",
      "There are 2 people aged 25\n",
      "There are 1 people aged 27\n",
      "There are 1 people aged 30\n",
      "There are 3 people aged 31\n",
      "There are 1 people aged 32\n",
      "There are 1 people aged 33\n",
      "There are 2 people aged 34\n",
      "There are 3 people aged 35\n",
      "There are 3 people aged 36\n",
      "There are 1 people aged 37\n",
      "There are 2 people aged 39\n",
      "There are 1 people aged 40\n",
      "There are 1 people aged 42\n",
      "There are 2 people aged 44\n",
      "There are 2 people aged 48\n",
      "There are 1 people aged 49\n",
      "There are 1 people aged 50\n",
      "There are 2 people aged 51\n",
      "There are 2 people aged 52\n",
      "There are 2 people aged 53\n",
      "There are 2 people aged 54\n",
      "There are 1 people aged 58\n",
      "There are 1 people aged 59\n",
      "There are 1 people aged 60\n",
      "There are 1 people aged 61\n",
      "There are 2 people aged 62\n",
      "There are 1 people aged 63\n",
      "There are 2 people aged 65\n",
      "There are 2 people aged 66\n",
      "There are 1 people aged 67\n",
      "There are 3 people aged 68\n",
      "There are 1 people aged 69\n",
      "There are 1 people aged 70\n",
      "There are 4 people aged 71\n",
      "There are 1 people aged 72\n",
      "There are 5 people aged 73\n",
      "There are 3 people aged 74\n"
     ]
    }
   ],
   "source": [
    "# Get the number of people belonging to each age group\n",
    "age_groups = cursor.execute(\"SELECT count(*), age FROM persons GROUP BY age\")\n",
    "for count, age in age_groups:\n",
    "    print(f\"There are {count} people aged {age}\")"
   ]
  },
  {
   "cell_type": "markdown",
   "metadata": {},
   "source": [
    "## Step 3 \n",
    "Find the age group that has the maximum number of people"
   ]
  },
  {
   "cell_type": "code",
   "execution_count": 43,
   "metadata": {},
   "outputs": [
    {
     "name": "stdout",
     "output_type": "stream",
     "text": [
      "The age that has the most people is 73 with 5 people\n"
     ]
    }
   ],
   "source": [
    "# Get the age group that has the most people \n",
    "max_group = cursor.execute(\"SELECT count(*), age FROM persons GROUP BY age ORDER BY count(*) DESC\")\n",
    "for count, age in max_group:\n",
    "    print(f\"The age that has the most people is {age} with {count} people\")\n",
    "    break"
   ]
  },
  {
   "cell_type": "markdown",
   "metadata": {},
   "source": [
    "## Step 4\n",
    "Find the people who do not have a last name"
   ]
  },
  {
   "cell_type": "code",
   "execution_count": 90,
   "metadata": {},
   "outputs": [
    {
     "name": "stdout",
     "output_type": "stream",
     "text": [
      "(1, 'Erica', None, 22, 'south port', 2345678)\n",
      "(2, 'Jordi', None, 73, 'east port', 123456)\n",
      "(3, 'Chasity', None, 70, 'new port', 76856785)\n",
      "(4, 'Gregg', None, 31, 'new port', 76856785)\n",
      "(6, 'Cary', None, 73, 'new port', 76856785)\n",
      "(8, 'Francisca', None, 14, 'west port', 123456)\n",
      "(10, 'Raleigh', None, 68, 'new port', 2345678)\n",
      "(11, 'Maria', None, 42, 'west port', 123456)\n",
      "(12, 'Mariane', None, 62, 'south port', 9756543)\n",
      "(13, 'Mona', None, 44, 'south port', 76856785)\n",
      "(14, 'Kayla', None, 36, 'south port', 2345678)\n",
      "(15, 'Karlie', None, 35, 'west port', 123456)\n",
      "(16, 'Morris', None, 71, 'west port', 76856785)\n",
      "(17, 'Sandy', None, 23, 'east port', 2345678)\n",
      "(18, 'Hector', None, 63, 'east port', 9756543)\n",
      "(19, 'Hiram', None, 52, 'west port', 2345678)\n",
      "(20, 'Tressa', None, 59, 'new port', 123456)\n",
      "(21, 'Berry', None, 22, 'south port', 2345678)\n",
      "(22, 'Pearline', None, 73, 'new port', 9756543)\n",
      "(23, 'Maynard', None, 25, 'east port', 123456)\n",
      "(24, 'Dorian', None, 40, 'east port', 123456)\n",
      "(25, 'Mylene', None, 5, 'east port', 76856785)\n",
      "(26, 'Lafayette', None, 34, 'new port', 2345678)\n",
      "(29, 'Tara', None, 39, 'west port', 123456)\n",
      "(30, 'Destiny', None, 18, 'south port', 2345678)\n",
      "(31, 'Lesly', None, 31, 'west port', 123456)\n",
      "(32, 'Perry', None, 19, 'south port', 76856785)\n",
      "(35, 'Maritza', None, 73, 'east port', 9756543)\n",
      "(37, 'Grant', None, 61, 'east port', 76856785)\n",
      "(39, 'Laury', None, 17, 'east port', 9756543)\n",
      "(40, 'Name', None, 52, 'east port', 9756543)\n",
      "(41, 'Estefania', None, 32, 'new port', 76856785)\n",
      "(42, 'Destiney', None, 65, 'west port', 2345678)\n",
      "(43, 'Jaquelin', None, 73, 'west port', 9756543)\n",
      "(45, 'Alfonzo', None, 16, 'east port', 2345678)\n",
      "(46, 'Lisandro', None, 11, 'new port', 76856785)\n",
      "(49, 'Priscilla', None, 65, 'east port', 76856785)\n",
      "(50, 'Elenora', None, 11, 'new port', 76856785)\n",
      "(52, 'Rudolph', None, 14, 'east port', 76856785)\n",
      "(56, 'Ona', None, 35, 'east port', 9756543)\n",
      "(57, 'Rebeca', None, 50, 'new port', 76856785)\n",
      "(59, 'Sigurd', None, 12, 'west port', 76856785)\n",
      "(63, 'Alice', None, 8, 'west port', 76856785)\n",
      "(64, 'Dane', None, 24, 'west port', 9756543)\n",
      "(65, 'Judge', None, 17, 'south port', 76856785)\n",
      "(66, 'Allene', None, 9, 'new port', 9756543)\n",
      "(67, 'Jalen', None, 33, 'new port', 2345678)\n",
      "(70, 'Myron', None, 36, 'new port', 9756543)\n",
      "(73, 'Travon', None, 16, 'south port', 2345678)\n",
      "(74, 'Shayna', None, 60, 'new port', 2345678)\n",
      "(75, 'Myah', None, 14, 'east port', 2345678)\n",
      "(82, 'Letha', None, 44, 'new port', 9756543)\n",
      "(84, 'Felton', None, 74, 'east port', 2345678)\n",
      "(85, 'London', None, 66, 'east port', 9756543)\n",
      "(86, 'Koby', None, 31, 'west port', 9756543)\n",
      "(87, 'Golden', None, 35, 'east port', 76856785)\n",
      "(89, 'Anissa', None, 8, 'south port', 76856785)\n",
      "(91, 'Sid', None, 22, 'west port', 123456)\n",
      "(96, 'Ernesto', None, 69, 'east port', 9756543)\n",
      "(97, 'Josianne', None, 14, 'west port', 76856785)\n"
     ]
    }
   ],
   "source": [
    "# Find the people whose last name is null\n",
    "no_lastname = cursor.execute(\"SELECT * FROM persons WHERE persons.last_name IS null\")\n",
    "for person in no_lastname:\n",
    "    print(person)"
   ]
  },
  {
   "cell_type": "markdown",
   "metadata": {},
   "source": [
    "# Step 5\n",
    "Find out how many people have more than one pet"
   ]
  },
  {
   "cell_type": "code",
   "execution_count": 91,
   "metadata": {},
   "outputs": [
    {
     "name": "stdout",
     "output_type": "stream",
     "text": [
      "There are 43 people who have more than one pet.\n"
     ]
    }
   ],
   "source": [
    "# We have to use HAVING here because aggregate functions don't work with WHERE clauses\n",
    "number_of_pets = cursor.execute(\"SELECT count(*) FROM  (SELECT count(owner_id) FROM pets GROUP BY owner_id HAVING count(owner_id) > 1)\")\n",
    "\n",
    "for num in number_of_pets:\n",
    "    print(f\"There are {num[0]} people who have more than one pet.\")\n",
    "    "
   ]
  },
  {
   "cell_type": "markdown",
   "metadata": {},
   "source": [
    "# Step 6 \n",
    "Find out how many pets have received treatment"
   ]
  },
  {
   "cell_type": "code",
   "execution_count": 93,
   "metadata": {},
   "outputs": [
    {
     "name": "stdout",
     "output_type": "stream",
     "text": [
      "36 pets have received treatment\n"
     ]
    }
   ],
   "source": [
    "# Used not zero to leave room for other values than just 1\n",
    "received_treatment = cursor.execute(\"SELECT count(*) FROM pets WHERE treatment_done IS NOT 0\")\n",
    "\n",
    "for num in received_treatment:\n",
    "    print(f\"{num[0]} pets have received treatment\")"
   ]
  },
  {
   "cell_type": "markdown",
   "metadata": {},
   "source": [
    "## Step 7 \n",
    "Find out how many pets have received treatment and the type of pet is known"
   ]
  },
  {
   "cell_type": "code",
   "execution_count": 97,
   "metadata": {
    "scrolled": true
   },
   "outputs": [
    {
     "name": "stdout",
     "output_type": "stream",
     "text": [
      "16 pets of a known type have received treatment\n"
     ]
    }
   ],
   "source": [
    "# Used is not null to check for pet type\n",
    "received_treatment_type = cursor.execute(\"SELECT count(*) FROM pets WHERE treatment_done IS NOT 0 and pet_type IS NOT NULL\")\n",
    "\n",
    "for num in received_treatment_type:\n",
    "    print(f\"{num[0]} pets of a known type have received treatment\")"
   ]
  },
  {
   "cell_type": "markdown",
   "metadata": {},
   "source": [
    "## Step 8 \n",
    "Find out how many pets are from the city called east port"
   ]
  },
  {
   "cell_type": "code",
   "execution_count": 98,
   "metadata": {},
   "outputs": [
    {
     "name": "stdout",
     "output_type": "stream",
     "text": [
      "There are 49 pets from east port\n"
     ]
    }
   ],
   "source": [
    "# Had to join the two databases to perform this query\n",
    "east_port_pets = cursor.execute(\"SELECT count(*) FROM  pets JOIN persons on pets.owner_id = persons.id WHERE persons.city = 'east port'\")\n",
    "\n",
    "for num in east_port_pets:\n",
    "    print(f\"There are {num[0]} pets from east port\")"
   ]
  },
  {
   "cell_type": "markdown",
   "metadata": {},
   "source": [
    "## Step 9\n",
    "Find out how many pets are from the city called east port and who received a treatment"
   ]
  },
  {
   "cell_type": "code",
   "execution_count": 101,
   "metadata": {},
   "outputs": [
    {
     "name": "stdout",
     "output_type": "stream",
     "text": [
      "There are 11 pets from east port that have received treatment\n"
     ]
    }
   ],
   "source": [
    "# Used a join and is not 0 to check pet type\n",
    "east_port_treatments = cursor.execute(\"SELECT count(*) FROM pets JOIN persons on pets.owner_id = persons.id where persons.city = 'east port' AND pets.treatment_done IS NOT 0 \")\n",
    "\n",
    "for num in east_port_treatments:\n",
    "    print(f\"There are {num[0]} pets from east port that have received treatment\")"
   ]
  }
 ],
 "metadata": {
  "kernelspec": {
   "display_name": "Python 3",
   "language": "python",
   "name": "python3"
  },
  "language_info": {
   "codemirror_mode": {
    "name": "ipython",
    "version": 3
   },
   "file_extension": ".py",
   "mimetype": "text/x-python",
   "name": "python",
   "nbconvert_exporter": "python",
   "pygments_lexer": "ipython3",
   "version": "3.6.6"
  }
 },
 "nbformat": 4,
 "nbformat_minor": 2
}
