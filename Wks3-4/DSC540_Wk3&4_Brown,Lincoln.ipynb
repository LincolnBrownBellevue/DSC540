{
 "cells": [
  {
   "cell_type": "markdown",
   "metadata": {},
   "source": [
    "# Weeks 3 & 4\n",
    "\n",
    "## DSC540-T301\n",
    "\n",
    "## Lincoln Brown\n",
    "\n",
    "## Professor Williams"
   ]
  },
  {
   "cell_type": "markdown",
   "metadata": {},
   "source": [
    "## Activity 5 \n",
    "### Page 116\n",
    "### Data Wrangling with Python"
   ]
  },
  {
   "cell_type": "code",
   "execution_count": 107,
   "metadata": {},
   "outputs": [
    {
     "name": "stdout",
     "output_type": "stream",
     "text": [
      "        CRIM    ZN  INDUS  CHAS    NOX     RM   AGE     DIS  RAD  TAX  \\\n",
      "0    0.00632  18.0   2.31     0  0.538  6.575  65.2  4.0900    1  296   \n",
      "1    0.02731   0.0   7.07     0  0.469  6.421  78.9  4.9671    2  242   \n",
      "2    0.02729   0.0   7.07     0  0.469  7.185  61.1  4.9671    2  242   \n",
      "3    0.03237   0.0   2.18     0  0.458  6.998  45.8  6.0622    3  222   \n",
      "4    0.06905   0.0   2.18     0  0.458  7.147  54.2  6.0622    3  222   \n",
      "..       ...   ...    ...   ...    ...    ...   ...     ...  ...  ...   \n",
      "501  0.06263   0.0  11.93     0  0.573  6.593  69.1  2.4786    1  273   \n",
      "502  0.04527   0.0  11.93     0  0.573  6.120  76.7  2.2875    1  273   \n",
      "503  0.06076   0.0  11.93     0  0.573  6.976  91.0  2.1675    1  273   \n",
      "504  0.10959   0.0  11.93     0  0.573  6.794  89.3  2.3889    1  273   \n",
      "505  0.04741   0.0  11.93     0  0.573  6.030  80.8  2.5050    1  273   \n",
      "\n",
      "     PTRATIO       B  LSTAT  PRICE  \n",
      "0       15.3  396.90   4.98   24.0  \n",
      "1       17.8  396.90   9.14   21.6  \n",
      "2       17.8  392.83   4.03   34.7  \n",
      "3       18.7  394.63   2.94   33.4  \n",
      "4       18.7  396.90   5.33   36.2  \n",
      "..       ...     ...    ...    ...  \n",
      "501     21.0  391.99   9.67   22.4  \n",
      "502     21.0  396.90   9.08   20.6  \n",
      "503     21.0  396.90   5.64   23.9  \n",
      "504     21.0  393.45   6.48   22.0  \n",
      "505     21.0  396.90   7.88   11.9  \n",
      "\n",
      "[506 rows x 14 columns]\n"
     ]
    }
   ],
   "source": [
    "import matplotlib.pyplot as plt\n",
    "import numpy as np\n",
    "import pandas as pd\n",
    "import requests\n",
    "\n",
    "# Download the Boston_housing.csv file from the internet and save it to the image's local storage\n",
    "url = 'https://raw.githubusercontent.com/TrainingByPackt/Data-Wrangling-with-Python/67d480102f6bd1231828c340976d2b7349eb06e9/Lesson05/Exercise60-68/Boston_housing.csv'\n",
    "r = requests.get(url)\n",
    "f_name = 'Boston_housing.csv'\n",
    "\n",
    "# Safely open the filename as writable and then write data to it\n",
    "with open(f_name, 'w') as f:\n",
    "    f.writelines(r.text)\n",
    "\n",
    "# Now open it for actual use and safe it to the df variable\n",
    "df = pd.DataFrame()\n",
    "with open(f_name, 'r') as f:\n",
    "    df = pd.read_csv(f)\n",
    "\n",
    "    \n",
    "data_dict = {\n",
    "    'CRIM'      :    'per capita crime rate by town',\n",
    "    'ZN'        :    'proportion of residential land zoned for lots over 25,000 sq.ft.',\n",
    "    'INDUS'     :    'proportion of non-retail business acres per town',\n",
    "    'CHAS'      :    'Charles River dummy variable (= 1 if tract bounds river; 0 otherwise)',\n",
    "    'NOX'       :    'nitric oxides concentration (parts per 10 million)',\n",
    "    'RM'        :    'average number of rooms per dwelling',\n",
    "    'AGE'       :    'proportion of owner-occupied units built prior to 1940',\n",
    "    'DIS'       :    'weighted distances to five Boston employment centres',\n",
    "    'RAD'       :    'index of accessibility to radial highways',\n",
    "    'TAX'       :    'full-value property-tax rate per 10,000 dollars',\n",
    "    'PTRATIO'   :    'pupil-teacher ratio by town',\n",
    "    'B'         :    '1000(Bk - 0.63)^2 where Bk is the proportion of blacks by town',\n",
    "    'LSTAT'     :    '% of lower status of the population',\n",
    "    'PRICE'     :    \"Median value of owner-occupied homes in $1000's\"\n",
    "}   \n",
    "print(df)"
   ]
  },
  {
   "cell_type": "markdown",
   "metadata": {},
   "source": [
    "### Data Dictionary:\n",
    "\n",
    "    CRIM: per capita crime rate by town\n",
    "    \n",
    "    ZN: proportion of residential land zoned for lots over 25,000 sq.ft.\n",
    "    \n",
    "    INDUS: proportion of non-retail business acres per town\n",
    "    \n",
    "    CHAS: Charles River dummy variable (= 1 if tract bounds river; 0 otherwise)\n",
    "    \n",
    "    NOX: nitric oxides concentration (parts per 10 million)\n",
    "    \n",
    "    RM: average number of rooms per dwelling\n",
    "    \n",
    "    AGE: proportion of owner-occupied units built prior to 1940\n",
    "    \n",
    "    DIS: weighted distances to five Boston employment centres\n",
    "    \n",
    "    RAD: index of accessibility to radial highways\n",
    "    \n",
    "    TAX: full-value property-tax rate per 10,000 dollars\n",
    "    \n",
    "    PTRATIO: pupil-teacher ratio by town\n",
    "    \n",
    "    B: 1000(Bk - 0.63)^2 where Bk is the proportion of blacks by town\n",
    "    \n",
    "    LSTAT: % of lower status of the population\n",
    "    \n",
    "    PRICE: Median value of owner-occupied homes in $1000's\n"
   ]
  },
  {
   "cell_type": "code",
   "execution_count": 108,
   "metadata": {},
   "outputs": [
    {
     "name": "stdout",
     "output_type": "stream",
     "text": [
      "      CRIM    ZN  INDUS  CHAS    NOX     RM    AGE     DIS  RAD  TAX  PTRATIO  \\\n",
      "0  0.00632  18.0   2.31     0  0.538  6.575   65.2  4.0900    1  296     15.3   \n",
      "1  0.02731   0.0   7.07     0  0.469  6.421   78.9  4.9671    2  242     17.8   \n",
      "2  0.02729   0.0   7.07     0  0.469  7.185   61.1  4.9671    2  242     17.8   \n",
      "3  0.03237   0.0   2.18     0  0.458  6.998   45.8  6.0622    3  222     18.7   \n",
      "4  0.06905   0.0   2.18     0  0.458  7.147   54.2  6.0622    3  222     18.7   \n",
      "5  0.02985   0.0   2.18     0  0.458  6.430   58.7  6.0622    3  222     18.7   \n",
      "6  0.08829  12.5   7.87     0  0.524  6.012   66.6  5.5605    5  311     15.2   \n",
      "7  0.14455  12.5   7.87     0  0.524  6.172   96.1  5.9505    5  311     15.2   \n",
      "8  0.21124  12.5   7.87     0  0.524  5.631  100.0  6.0821    5  311     15.2   \n",
      "9  0.17004  12.5   7.87     0  0.524  6.004   85.9  6.5921    5  311     15.2   \n",
      "\n",
      "        B  LSTAT  PRICE  \n",
      "0  396.90   4.98   24.0  \n",
      "1  396.90   9.14   21.6  \n",
      "2  392.83   4.03   34.7  \n",
      "3  394.63   2.94   33.4  \n",
      "4  396.90   5.33   36.2  \n",
      "5  394.12   5.21   28.7  \n",
      "6  395.60  12.43   22.9  \n",
      "7  396.90  19.15   27.1  \n",
      "8  386.63  29.93   16.5  \n",
      "9  386.71  17.10   18.9  \n",
      "\n",
      "Total number of rows: 506\n",
      "\n",
      "Total number of columns: 14\n",
      "\n"
     ]
    }
   ],
   "source": [
    "# Check the first 10 records\n",
    "print(df.head(10))\n",
    "\n",
    "\n",
    "# Find the total number of records and columns\n",
    "print(f\"\\nTotal number of rows: {df.shape[0]}\\n\")\n",
    "print(f\"Total number of columns: {df.shape[1]}\\n\")"
   ]
  },
  {
   "cell_type": "code",
   "execution_count": 109,
   "metadata": {},
   "outputs": [
    {
     "name": "stdout",
     "output_type": "stream",
     "text": [
      "Total number of revised columns: 10\n"
     ]
    }
   ],
   "source": [
    "# Create a smaller dataframe that contains 4 less columns\n",
    "smaller_df = df.loc[:, ~df.columns.isin(['CHAS','NOX','B','LSTAT'])]\n",
    "print(f\"Total number of revised columns: {smaller_df.shape[1]}\")\n"
   ]
  },
  {
   "cell_type": "code",
   "execution_count": 110,
   "metadata": {},
   "outputs": [
    {
     "name": "stdout",
     "output_type": "stream",
     "text": [
      "Last seven entries of smaller_df:\n",
      "         CRIM   ZN  INDUS     RM   AGE     DIS  RAD  TAX  PTRATIO  PRICE\n",
      "499  0.17783  0.0   9.69  5.569  73.5  2.3999    6  391     19.2   17.5\n",
      "500  0.22438  0.0   9.69  6.027  79.7  2.4982    6  391     19.2   16.8\n",
      "501  0.06263  0.0  11.93  6.593  69.1  2.4786    1  273     21.0   22.4\n",
      "502  0.04527  0.0  11.93  6.120  76.7  2.2875    1  273     21.0   20.6\n",
      "503  0.06076  0.0  11.93  6.976  91.0  2.1675    1  273     21.0   23.9\n",
      "504  0.10959  0.0  11.93  6.794  89.3  2.3889    1  273     21.0   22.0\n",
      "505  0.04741  0.0  11.93  6.030  80.8  2.5050    1  273     21.0   11.9\n"
     ]
    }
   ],
   "source": [
    "# Look at the last seven entries of the smaller dataframe we just created\n",
    "print(f\"Last seven entries of smaller_df:\\n {smaller_df.tail(7)}\")"
   ]
  },
  {
   "cell_type": "code",
   "execution_count": 111,
   "metadata": {},
   "outputs": [
    {
     "data": {
      "image/png": "[encoded data removed]",
      "text/plain": [
       "<Figure size 432x288 with 1 Axes>"
      ]
     },
     "metadata": {
      "needs_background": "light"
     },
     "output_type": "display_data"
    },
    {
     "data": {
      "image/png": "[encoded data removed]",
      "text/plain": [
       "<Figure size 432x288 with 1 Axes>"
      ]
     },
     "metadata": {
      "needs_background": "light"
     },
     "output_type": "display_data"
    },
    {
     "data": {
      "image/png": "[encoded data removed]",
      "text/plain": [
       "<Figure size 432x288 with 1 Axes>"
      ]
     },
     "metadata": {
      "needs_background": "light"
     },
     "output_type": "display_data"
    },
    {
     "data": {
      "image/png": "[encoded data removed]",
      "text/plain": [
       "<Figure size 432x288 with 1 Axes>"
      ]
     },
     "metadata": {
      "needs_background": "light"
     },
     "output_type": "display_data"
    },
    {
     "data": {
      "image/png": "[encoded data removed]",
      "text/plain": [
       "<Figure size 432x288 with 1 Axes>"
      ]
     },
     "metadata": {
      "needs_background": "light"
     },
     "output_type": "display_data"
    },
    {
     "data": {
      "image/png": "[encoded data removed]",
      "text/plain": [
       "<Figure size 432x288 with 1 Axes>"
      ]
     },
     "metadata": {
      "needs_background": "light"
     },
     "output_type": "display_data"
    },
    {
     "data": {
      "image/png": "[encoded data removed]",
      "text/plain": [
       "<Figure size 432x288 with 1 Axes>"
      ]
     },
     "metadata": {
      "needs_background": "light"
     },
     "output_type": "display_data"
    },
    {
     "data": {
      "image/png": "[encoded data removed]",
      "text/plain": [
       "<Figure size 432x288 with 1 Axes>"
      ]
     },
     "metadata": {
      "needs_background": "light"
     },
     "output_type": "display_data"
    },
    {
     "data": {
      "image/png": "[encoded data removed]",
      "text/plain": [
       "<Figure size 432x288 with 1 Axes>"
      ]
     },
     "metadata": {
      "needs_background": "light"
     },
     "output_type": "display_data"
    },
    {
     "data": {
      "image/png": "[encoded data removed]",
      "text/plain": [
       "<Figure size 432x288 with 1 Axes>"
      ]
     },
     "metadata": {
      "needs_background": "light"
     },
     "output_type": "display_data"
    }
   ],
   "source": [
    "# Plot the histograms of all the columns in the new DataFrame\n",
    "for col in smaller_df.columns:\n",
    "    smaller_df[col].hist()\n",
    "    plt.suptitle(f\"{col}\")\n",
    "    plt.title(f\"{data_dict[col].title()}\")\n",
    "    plt.show()"
   ]
  },
  {
   "cell_type": "code",
   "execution_count": 112,
   "metadata": {},
   "outputs": [
    {
     "data": {
      "image/png": "[encoded data removed]",
      "text/plain": [
       "<Figure size 432x288 with 1 Axes>"
      ]
     },
     "metadata": {
      "needs_background": "light"
     },
     "output_type": "display_data"
    }
   ],
   "source": [
    "# create a scatter plot of crime rate versus price\n",
    "smaller_df.plot.scatter('CRIM','PRICE')\n",
    "plt.title(\"Crime rate vs Price\")\n",
    "plt.show()"
   ]
  },
  {
   "cell_type": "code",
   "execution_count": 113,
   "metadata": {},
   "outputs": [
    {
     "data": {
      "image/png": "[encoded data removed]",
      "text/plain": [
       "<Figure size 432x288 with 1 Axes>"
      ]
     },
     "metadata": {
      "needs_background": "light"
     },
     "output_type": "display_data"
    }
   ],
   "source": [
    "# Create a scatter plot of log10(crime) vs price\n",
    "plt.scatter(np.log10(smaller_df['CRIM']), smaller_df['PRICE'])\n",
    "plt.title(\"Log10 Crime Rate vs Price\")\n",
    "plt.xlabel(\"Log10 of Crime Rate\")\n",
    "plt.ylabel(\"Price in Thousands\")\n",
    "plt.show()"
   ]
  },
  {
   "cell_type": "code",
   "execution_count": 114,
   "metadata": {},
   "outputs": [
    {
     "name": "stdout",
     "output_type": "stream",
     "text": [
      "             CRIM          ZN       INDUS          RM         AGE         DIS  \\\n",
      "count  506.000000  506.000000  506.000000  506.000000  506.000000  506.000000   \n",
      "mean     3.593761   11.363636   11.136779    6.284634   68.574901    3.795043   \n",
      "std      8.596783   23.322453    6.860353    0.702617   28.148861    2.105710   \n",
      "min      0.006320    0.000000    0.460000    3.561000    2.900000    1.129600   \n",
      "25%      0.082045    0.000000    5.190000    5.885500   45.025000    2.100175   \n",
      "50%      0.256510    0.000000    9.690000    6.208500   77.500000    3.207450   \n",
      "75%      3.647422   12.500000   18.100000    6.623500   94.075000    5.188425   \n",
      "max     88.976200  100.000000   27.740000    8.780000  100.000000   12.126500   \n",
      "\n",
      "              RAD         TAX     PTRATIO       PRICE  \n",
      "count  506.000000  506.000000  506.000000  506.000000  \n",
      "mean     9.549407  408.237154   18.455534   22.532806  \n",
      "std      8.707259  168.537116    2.164946    9.197104  \n",
      "min      1.000000  187.000000   12.600000    5.000000  \n",
      "25%      4.000000  279.000000   17.400000   17.025000  \n",
      "50%      5.000000  330.000000   19.050000   21.200000  \n",
      "75%     24.000000  666.000000   20.200000   25.000000  \n",
      "max     24.000000  711.000000   22.000000   50.000000  \n"
     ]
    }
   ],
   "source": [
    "# Calculate some useful statistics, such as mean rooms per dwelling, median age,\n",
    "# mean distances to five Boston employment centers, and the percentage of houses with a low price (<$20,000)\n",
    "\n",
    "# Get the descriptive statistics for the smaller dataset\n",
    "print(smaller_df.describe())"
   ]
  },
  {
   "cell_type": "code",
   "execution_count": 115,
   "metadata": {},
   "outputs": [
    {
     "name": "stdout",
     "output_type": "stream",
     "text": [
      "\n",
      "Mean rooms per dwelling: 6.284634387351779\n",
      "\n"
     ]
    }
   ],
   "source": [
    "# Mean rooms per dwelling\n",
    "mean_rooms = smaller_df['RM'].mean()\n",
    "print(f\"\\nMean rooms per dwelling: {mean_rooms}\\n\")"
   ]
  },
  {
   "cell_type": "code",
   "execution_count": 116,
   "metadata": {},
   "outputs": [
    {
     "name": "stdout",
     "output_type": "stream",
     "text": [
      "Median age: 77.5\n"
     ]
    }
   ],
   "source": [
    "# Median age\n",
    "\n",
    "median_age = smaller_df['AGE'].median()\n",
    "print(f\"Median age: {median_age}\")"
   ]
  },
  {
   "cell_type": "code",
   "execution_count": 117,
   "metadata": {},
   "outputs": [
    {
     "name": "stdout",
     "output_type": "stream",
     "text": [
      "Mean distance to five Boston employment centers: 3.795042687747036\n"
     ]
    }
   ],
   "source": [
    "# Mean distances to five Boston employment centers\n",
    "\n",
    "mean_distance = smaller_df['DIS'].mean()\n",
    "print(f\"Mean distance to five Boston employment centers: {mean_distance}\")"
   ]
  },
  {
   "cell_type": "code",
   "execution_count": 118,
   "metadata": {},
   "outputs": [
    {
     "name": "stdout",
     "output_type": "stream",
     "text": [
      "41.50% of house prices are less than $20,000\n"
     ]
    }
   ],
   "source": [
    "# Percentage of houses with a low price (<$20,000)\n",
    "low_cost_houses = (smaller_df['PRICE'] < 20).sum()\n",
    "total_houses = smaller_df.shape[0]\n",
    "percent = (low_cost_houses/total_houses) * 100\n",
    "print(f\"{percent:.2f}% of house prices are less than $20,000\")"
   ]
  },
  {
   "cell_type": "markdown",
   "metadata": {},
   "source": [
    "## Activity 6\n",
    "\n",
    "### Page 171\n",
    "\n",
    "### Data Wrangling with Python"
   ]
  },
  {
   "cell_type": "code",
   "execution_count": 119,
   "metadata": {},
   "outputs": [],
   "source": [
    "# Step 1\n",
    "# Load the necessary libraries\n",
    "import numpy as np\n",
    "import pandas as pd\n",
    "import requests "
   ]
  },
  {
   "cell_type": "code",
   "execution_count": 120,
   "metadata": {},
   "outputs": [
    {
     "name": "stdout",
     "output_type": "stream",
     "text": [
      "Shape of adult_income: (32560, 14)\n"
     ]
    },
    {
     "data": {
      "text/html": [
       "<div>\n",
       "<style scoped>\n",
       "    .dataframe tbody tr th:only-of-type {\n",
       "        vertical-align: middle;\n",
       "    }\n",
       "\n",
       "    .dataframe tbody tr th {\n",
       "        vertical-align: top;\n",
       "    }\n",
       "\n",
       "    .dataframe thead th {\n",
       "        text-align: right;\n",
       "    }\n",
       "</style>\n",
       "<table border=\"1\" class=\"dataframe\">\n",
       "  <thead>\n",
       "    <tr style=\"text-align: right;\">\n",
       "      <th></th>\n",
       "      <th>39</th>\n",
       "      <th>State-gov</th>\n",
       "      <th>77516</th>\n",
       "      <th>Bachelors</th>\n",
       "      <th>13</th>\n",
       "      <th>Never-married</th>\n",
       "      <th>Adm-clerical</th>\n",
       "      <th>Not-in-family</th>\n",
       "      <th>Male</th>\n",
       "      <th>2174</th>\n",
       "      <th>0</th>\n",
       "      <th>40</th>\n",
       "      <th>United-States</th>\n",
       "      <th>&lt;=50K</th>\n",
       "    </tr>\n",
       "  </thead>\n",
       "  <tbody>\n",
       "    <tr>\n",
       "      <th>0</th>\n",
       "      <td>50</td>\n",
       "      <td>Self-emp-not-inc</td>\n",
       "      <td>83311</td>\n",
       "      <td>Bachelors</td>\n",
       "      <td>13</td>\n",
       "      <td>Married-civ-spouse</td>\n",
       "      <td>Exec-managerial</td>\n",
       "      <td>Husband</td>\n",
       "      <td>Male</td>\n",
       "      <td>0</td>\n",
       "      <td>0</td>\n",
       "      <td>13</td>\n",
       "      <td>United-States</td>\n",
       "      <td>&lt;=50K</td>\n",
       "    </tr>\n",
       "    <tr>\n",
       "      <th>1</th>\n",
       "      <td>38</td>\n",
       "      <td>Private</td>\n",
       "      <td>215646</td>\n",
       "      <td>HS-grad</td>\n",
       "      <td>9</td>\n",
       "      <td>Divorced</td>\n",
       "      <td>Handlers-cleaners</td>\n",
       "      <td>Not-in-family</td>\n",
       "      <td>Male</td>\n",
       "      <td>0</td>\n",
       "      <td>0</td>\n",
       "      <td>40</td>\n",
       "      <td>United-States</td>\n",
       "      <td>&lt;=50K</td>\n",
       "    </tr>\n",
       "    <tr>\n",
       "      <th>2</th>\n",
       "      <td>53</td>\n",
       "      <td>Private</td>\n",
       "      <td>234721</td>\n",
       "      <td>11th</td>\n",
       "      <td>7</td>\n",
       "      <td>Married-civ-spouse</td>\n",
       "      <td>Handlers-cleaners</td>\n",
       "      <td>Husband</td>\n",
       "      <td>Male</td>\n",
       "      <td>0</td>\n",
       "      <td>0</td>\n",
       "      <td>40</td>\n",
       "      <td>United-States</td>\n",
       "      <td>&lt;=50K</td>\n",
       "    </tr>\n",
       "    <tr>\n",
       "      <th>3</th>\n",
       "      <td>28</td>\n",
       "      <td>Private</td>\n",
       "      <td>338409</td>\n",
       "      <td>Bachelors</td>\n",
       "      <td>13</td>\n",
       "      <td>Married-civ-spouse</td>\n",
       "      <td>Prof-specialty</td>\n",
       "      <td>Wife</td>\n",
       "      <td>Female</td>\n",
       "      <td>0</td>\n",
       "      <td>0</td>\n",
       "      <td>40</td>\n",
       "      <td>Cuba</td>\n",
       "      <td>&lt;=50K</td>\n",
       "    </tr>\n",
       "    <tr>\n",
       "      <th>4</th>\n",
       "      <td>37</td>\n",
       "      <td>Private</td>\n",
       "      <td>284582</td>\n",
       "      <td>Masters</td>\n",
       "      <td>14</td>\n",
       "      <td>Married-civ-spouse</td>\n",
       "      <td>Exec-managerial</td>\n",
       "      <td>Wife</td>\n",
       "      <td>Female</td>\n",
       "      <td>0</td>\n",
       "      <td>0</td>\n",
       "      <td>40</td>\n",
       "      <td>United-States</td>\n",
       "      <td>&lt;=50K</td>\n",
       "    </tr>\n",
       "    <tr>\n",
       "      <th>5</th>\n",
       "      <td>49</td>\n",
       "      <td>Private</td>\n",
       "      <td>160187</td>\n",
       "      <td>9th</td>\n",
       "      <td>5</td>\n",
       "      <td>Married-spouse-absent</td>\n",
       "      <td>Other-service</td>\n",
       "      <td>Not-in-family</td>\n",
       "      <td>Female</td>\n",
       "      <td>0</td>\n",
       "      <td>0</td>\n",
       "      <td>16</td>\n",
       "      <td>Jamaica</td>\n",
       "      <td>&lt;=50K</td>\n",
       "    </tr>\n",
       "    <tr>\n",
       "      <th>6</th>\n",
       "      <td>52</td>\n",
       "      <td>Self-emp-not-inc</td>\n",
       "      <td>209642</td>\n",
       "      <td>HS-grad</td>\n",
       "      <td>9</td>\n",
       "      <td>Married-civ-spouse</td>\n",
       "      <td>Exec-managerial</td>\n",
       "      <td>Husband</td>\n",
       "      <td>Male</td>\n",
       "      <td>0</td>\n",
       "      <td>0</td>\n",
       "      <td>45</td>\n",
       "      <td>United-States</td>\n",
       "      <td>&gt;50K</td>\n",
       "    </tr>\n",
       "    <tr>\n",
       "      <th>7</th>\n",
       "      <td>31</td>\n",
       "      <td>Private</td>\n",
       "      <td>45781</td>\n",
       "      <td>Masters</td>\n",
       "      <td>14</td>\n",
       "      <td>Never-married</td>\n",
       "      <td>Prof-specialty</td>\n",
       "      <td>Not-in-family</td>\n",
       "      <td>Female</td>\n",
       "      <td>14084</td>\n",
       "      <td>0</td>\n",
       "      <td>50</td>\n",
       "      <td>United-States</td>\n",
       "      <td>&gt;50K</td>\n",
       "    </tr>\n",
       "    <tr>\n",
       "      <th>8</th>\n",
       "      <td>42</td>\n",
       "      <td>Private</td>\n",
       "      <td>159449</td>\n",
       "      <td>Bachelors</td>\n",
       "      <td>13</td>\n",
       "      <td>Married-civ-spouse</td>\n",
       "      <td>Exec-managerial</td>\n",
       "      <td>Husband</td>\n",
       "      <td>Male</td>\n",
       "      <td>5178</td>\n",
       "      <td>0</td>\n",
       "      <td>40</td>\n",
       "      <td>United-States</td>\n",
       "      <td>&gt;50K</td>\n",
       "    </tr>\n",
       "    <tr>\n",
       "      <th>9</th>\n",
       "      <td>37</td>\n",
       "      <td>Private</td>\n",
       "      <td>280464</td>\n",
       "      <td>Some-college</td>\n",
       "      <td>10</td>\n",
       "      <td>Married-civ-spouse</td>\n",
       "      <td>Exec-managerial</td>\n",
       "      <td>Husband</td>\n",
       "      <td>Male</td>\n",
       "      <td>0</td>\n",
       "      <td>0</td>\n",
       "      <td>80</td>\n",
       "      <td>United-States</td>\n",
       "      <td>&gt;50K</td>\n",
       "    </tr>\n",
       "  </tbody>\n",
       "</table>\n",
       "</div>"
      ],
      "text/plain": [
       "   39          State-gov   77516      Bachelors  13           Never-married  \\\n",
       "0  50   Self-emp-not-inc   83311      Bachelors  13      Married-civ-spouse   \n",
       "1  38            Private  215646        HS-grad   9                Divorced   \n",
       "2  53            Private  234721           11th   7      Married-civ-spouse   \n",
       "3  28            Private  338409      Bachelors  13      Married-civ-spouse   \n",
       "4  37            Private  284582        Masters  14      Married-civ-spouse   \n",
       "5  49            Private  160187            9th   5   Married-spouse-absent   \n",
       "6  52   Self-emp-not-inc  209642        HS-grad   9      Married-civ-spouse   \n",
       "7  31            Private   45781        Masters  14           Never-married   \n",
       "8  42            Private  159449      Bachelors  13      Married-civ-spouse   \n",
       "9  37            Private  280464   Some-college  10      Married-civ-spouse   \n",
       "\n",
       "         Adm-clerical   Not-in-family     Male   2174  0  40   United-States  \\\n",
       "0     Exec-managerial         Husband     Male      0  0  13   United-States   \n",
       "1   Handlers-cleaners   Not-in-family     Male      0  0  40   United-States   \n",
       "2   Handlers-cleaners         Husband     Male      0  0  40   United-States   \n",
       "3      Prof-specialty            Wife   Female      0  0  40            Cuba   \n",
       "4     Exec-managerial            Wife   Female      0  0  40   United-States   \n",
       "5       Other-service   Not-in-family   Female      0  0  16         Jamaica   \n",
       "6     Exec-managerial         Husband     Male      0  0  45   United-States   \n",
       "7      Prof-specialty   Not-in-family   Female  14084  0  50   United-States   \n",
       "8     Exec-managerial         Husband     Male   5178  0  40   United-States   \n",
       "9     Exec-managerial         Husband     Male      0  0  80   United-States   \n",
       "\n",
       "    <=50K  \n",
       "0   <=50K  \n",
       "1   <=50K  \n",
       "2   <=50K  \n",
       "3   <=50K  \n",
       "4   <=50K  \n",
       "5   <=50K  \n",
       "6    >50K  \n",
       "7    >50K  \n",
       "8    >50K  \n",
       "9    >50K  "
      ]
     },
     "execution_count": 120,
     "metadata": {},
     "output_type": "execute_result"
    }
   ],
   "source": [
    "#Step 2\n",
    "#Read the adult income dataset from the following URL\n",
    "url2 = 'https://raw.githubusercontent.com/TrainingByPackt/Data-Wrangling-with-Python/67d480102f6bd1231828c340976d2b7349eb06e9/Lesson04/Activity06/adult_income_data.csv'\n",
    "\n",
    "# Save file and write it to the appropriate file name\n",
    "adult_income_request = requests.get(url2)\n",
    "income_file = 'adult_income_data.csv'\n",
    "with open(income_file, 'w') as f:\n",
    "    f.writelines(adult_income_request.text)\n",
    "\n",
    "# Load file into pandas DataFrame\n",
    "adult_income = pd.read_csv(income_file)\n",
    "print(f\"Shape of adult_income: {adult_income.shape}\")\n",
    "\n",
    "# Print the first ten rows in the dataframe\n",
    "adult_income.head(10)"
   ]
  },
  {
   "cell_type": "code",
   "execution_count": 121,
   "metadata": {},
   "outputs": [
    {
     "name": "stdout",
     "output_type": "stream",
     "text": [
      "adult_income columns: Index(['39', ' State-gov', '77516', ' Bachelors', '13', ' Never-married',\n",
      "       ' Adm-clerical', ' Not-in-family', ' Male', '2174', '0', '40',\n",
      "       ' United-States', ' <=50K'],\n",
      "      dtype='object')\n"
     ]
    },
    {
     "data": {
      "text/html": [
       "<div>\n",
       "<style scoped>\n",
       "    .dataframe tbody tr th:only-of-type {\n",
       "        vertical-align: middle;\n",
       "    }\n",
       "\n",
       "    .dataframe tbody tr th {\n",
       "        vertical-align: top;\n",
       "    }\n",
       "\n",
       "    .dataframe thead th {\n",
       "        text-align: right;\n",
       "    }\n",
       "</style>\n",
       "<table border=\"1\" class=\"dataframe\">\n",
       "  <thead>\n",
       "    <tr style=\"text-align: right;\">\n",
       "      <th></th>\n",
       "      <th>39</th>\n",
       "      <th>77516</th>\n",
       "      <th>13</th>\n",
       "      <th>2174</th>\n",
       "      <th>0</th>\n",
       "      <th>40</th>\n",
       "    </tr>\n",
       "  </thead>\n",
       "  <tbody>\n",
       "    <tr>\n",
       "      <th>count</th>\n",
       "      <td>32560.000000</td>\n",
       "      <td>3.256000e+04</td>\n",
       "      <td>32560.000000</td>\n",
       "      <td>32560.000000</td>\n",
       "      <td>32560.000000</td>\n",
       "      <td>32560.000000</td>\n",
       "    </tr>\n",
       "    <tr>\n",
       "      <th>mean</th>\n",
       "      <td>38.581634</td>\n",
       "      <td>1.897818e+05</td>\n",
       "      <td>10.080590</td>\n",
       "      <td>1077.615172</td>\n",
       "      <td>87.306511</td>\n",
       "      <td>40.437469</td>\n",
       "    </tr>\n",
       "    <tr>\n",
       "      <th>std</th>\n",
       "      <td>13.640642</td>\n",
       "      <td>1.055498e+05</td>\n",
       "      <td>2.572709</td>\n",
       "      <td>7385.402999</td>\n",
       "      <td>402.966116</td>\n",
       "      <td>12.347618</td>\n",
       "    </tr>\n",
       "    <tr>\n",
       "      <th>min</th>\n",
       "      <td>17.000000</td>\n",
       "      <td>1.228500e+04</td>\n",
       "      <td>1.000000</td>\n",
       "      <td>0.000000</td>\n",
       "      <td>0.000000</td>\n",
       "      <td>1.000000</td>\n",
       "    </tr>\n",
       "    <tr>\n",
       "      <th>25%</th>\n",
       "      <td>28.000000</td>\n",
       "      <td>1.178315e+05</td>\n",
       "      <td>9.000000</td>\n",
       "      <td>0.000000</td>\n",
       "      <td>0.000000</td>\n",
       "      <td>40.000000</td>\n",
       "    </tr>\n",
       "    <tr>\n",
       "      <th>50%</th>\n",
       "      <td>37.000000</td>\n",
       "      <td>1.783630e+05</td>\n",
       "      <td>10.000000</td>\n",
       "      <td>0.000000</td>\n",
       "      <td>0.000000</td>\n",
       "      <td>40.000000</td>\n",
       "    </tr>\n",
       "    <tr>\n",
       "      <th>75%</th>\n",
       "      <td>48.000000</td>\n",
       "      <td>2.370545e+05</td>\n",
       "      <td>12.000000</td>\n",
       "      <td>0.000000</td>\n",
       "      <td>0.000000</td>\n",
       "      <td>45.000000</td>\n",
       "    </tr>\n",
       "    <tr>\n",
       "      <th>max</th>\n",
       "      <td>90.000000</td>\n",
       "      <td>1.484705e+06</td>\n",
       "      <td>16.000000</td>\n",
       "      <td>99999.000000</td>\n",
       "      <td>4356.000000</td>\n",
       "      <td>99.000000</td>\n",
       "    </tr>\n",
       "  </tbody>\n",
       "</table>\n",
       "</div>"
      ],
      "text/plain": [
       "                 39         77516            13          2174             0  \\\n",
       "count  32560.000000  3.256000e+04  32560.000000  32560.000000  32560.000000   \n",
       "mean      38.581634  1.897818e+05     10.080590   1077.615172     87.306511   \n",
       "std       13.640642  1.055498e+05      2.572709   7385.402999    402.966116   \n",
       "min       17.000000  1.228500e+04      1.000000      0.000000      0.000000   \n",
       "25%       28.000000  1.178315e+05      9.000000      0.000000      0.000000   \n",
       "50%       37.000000  1.783630e+05     10.000000      0.000000      0.000000   \n",
       "75%       48.000000  2.370545e+05     12.000000      0.000000      0.000000   \n",
       "max       90.000000  1.484705e+06     16.000000  99999.000000   4356.000000   \n",
       "\n",
       "                 40  \n",
       "count  32560.000000  \n",
       "mean      40.437469  \n",
       "std       12.347618  \n",
       "min        1.000000  \n",
       "25%       40.000000  \n",
       "50%       40.000000  \n",
       "75%       45.000000  \n",
       "max       99.000000  "
      ]
     },
     "execution_count": 121,
     "metadata": {},
     "output_type": "execute_result"
    }
   ],
   "source": [
    "print(f\"adult_income columns: {adult_income.columns}\")\n",
    "adult_income.describe()\n",
    "\n",
    "# Looking at the columns below, it is clear that the csv does not have headers. \n",
    "# Next, we will need to read in the names.txt so that we can add the headers to the dataframe."
   ]
  },
  {
   "cell_type": "code",
   "execution_count": 122,
   "metadata": {},
   "outputs": [
    {
     "name": "stdout",
     "output_type": "stream",
     "text": [
      "age: continuous.\n",
      "\n",
      "workclass: Private, Self-emp-not-inc, Self-emp-inc, Federal-gov, Local-gov, State-gov, Without-pay, Never-worked.\n",
      "\n",
      "fnlwgt: continuous.\n",
      "\n",
      "education: Bachelors, Some-college, 11th, HS-grad, Prof-school, Assoc-acdm, Assoc-voc, 9th, 7th-8th, 12th, Masters, 1st-4th, 10th, Doctorate, 5th-6th, Preschool.\n",
      "\n",
      "education-num: continuous.\n",
      "\n",
      "marital-status: Married-civ-spouse, Divorced, Never-married, Separated, Widowed, Married-spouse-absent, Married-AF-spouse.\n",
      "\n",
      "occupation: Tech-support, Craft-repair, Other-service, Sales, Exec-managerial, Prof-specialty, Handlers-cleaners, Machine-op-inspct, Adm-clerical, Farming-fishing, Transport-moving, Priv-house-serv, Protective-serv, Armed-Forces.\n",
      "\n",
      "relationship: Wife, Own-child, Husband, Not-in-family, Other-relative, Unmarried.\n",
      "\n",
      "sex: Female, Male.\n",
      "\n",
      "capital-gain: continuous.\n",
      "\n",
      "capital-loss: continuous.\n",
      "\n",
      "hours-per-week: continuous.\n",
      "\n",
      "native-country: United-States, Cambodia, England, Puerto-Rico, Canada, Germany, Outlying-US(Guam-USVI-etc), India, Japan, Greece, South, China, Cuba, Iran, Honduras, Philippines, Italy, Poland, Jamaica, Vietnam, Mexico, Portugal, Ireland, France, Dominican-Republic, Laos, Ecuador, Taiwan, Haiti, Columbia, Hungary, Guatemala, Nicaragua, Scotland, Thailand, Yugoslavia, El-Salvador, Trinadad&Tobago, Peru, Hong, Holand-Netherlands.\n"
     ]
    }
   ],
   "source": [
    "#Step 3 \n",
    "# Create a script that will read a text file line by line (Read in the headers from the text file)\n",
    "\n",
    "#Import the text file and save it\n",
    "url3 = \"https://raw.githubusercontent.com/TrainingByPackt/Data-Wrangling-with-Python/67d480102f6bd1231828c340976d2b7349eb06e9/Lesson04/Activity06/adult_income_names.txt\"\n",
    "names_request = requests.get(url3)\n",
    "names_file = 'adult_income_names.txt'\n",
    "with open(names_file, 'w') as names_txt:\n",
    "    names_txt.writelines(names_request.text)\n",
    "    \n",
    "print(names_request.text)"
   ]
  },
  {
   "cell_type": "code",
   "execution_count": 123,
   "metadata": {},
   "outputs": [
    {
     "name": "stdout",
     "output_type": "stream",
     "text": [
      "adult_income_names.txt\n",
      "age\n",
      "\n",
      "\n",
      "workclass\n",
      "\n",
      "\n",
      "fnlwgt\n",
      "\n",
      "\n",
      "education\n",
      "\n",
      "\n",
      "education-num\n",
      "\n",
      "\n",
      "marital-status\n",
      "\n",
      "\n",
      "occupation\n",
      "\n",
      "\n",
      "relationship\n",
      "\n",
      "\n",
      "sex\n",
      "\n",
      "\n",
      "capital-gain\n",
      "\n",
      "\n",
      "capital-loss\n",
      "\n",
      "\n",
      "hours-per-week\n",
      "\n",
      "\n",
      "native-country\n",
      "['age', 'workclass', 'fnlwgt', 'education', 'education-num', 'marital-status', 'occupation', 'relationship', 'sex', 'capital-gain', 'capital-loss', 'hours-per-week', 'native-country']\n",
      "13\n",
      "Headers length: len(headers)\n",
      "Columns: ['age', 'workclass', 'fnlwgt', 'education', 'education-num', 'marital-status', 'occupation', 'relationship', 'sex', 'capital-gain', 'capital-loss', 'hours-per-week', 'native-country', 'Income']\n"
     ]
    }
   ],
   "source": [
    "# Create an empty list to house the headers\n",
    "headers = []\n",
    "# Close and reopen. Redundant, yes, but ensures we are actually reading from the local file\n",
    "print(names_file)\n",
    "with open(names_file, 'r') as names_txt:\n",
    "    \n",
    "# Since all of the col_names end with a colon I will split the line on that and grab the first element in the list\n",
    "    for line in names_txt: \n",
    "            col_name = line.split(\":\")[0] \n",
    "            #Append the col_name to the headers list\n",
    "            print(col_name)\n",
    "            # Looks like the output has a bunch of new lines, need to strip those out before adding\n",
    "            if(col_name != \"\\n\"):\n",
    "                headers.append(col_name)\n",
    "\n",
    "print(headers)\n",
    "\n",
    "# There are fourteen columns in the adult_income dataframe, let's make sure we have 14 headers\n",
    "print(len(headers))\n",
    "\n",
    "# We only have 13 columns, looking at the dataframe, it is clear that we need to add Income as a header\n",
    "# Which is Step 4\n",
    "headers.append(\"Income\")\n",
    "\n",
    "print(f\"Headers length: len(headers)\")\n",
    "print(f\"Columns: {headers}\")"
   ]
  },
  {
   "cell_type": "code",
   "execution_count": 124,
   "metadata": {},
   "outputs": [
    {
     "data": {
      "text/html": [
       "<div>\n",
       "<style scoped>\n",
       "    .dataframe tbody tr th:only-of-type {\n",
       "        vertical-align: middle;\n",
       "    }\n",
       "\n",
       "    .dataframe tbody tr th {\n",
       "        vertical-align: top;\n",
       "    }\n",
       "\n",
       "    .dataframe thead th {\n",
       "        text-align: right;\n",
       "    }\n",
       "</style>\n",
       "<table border=\"1\" class=\"dataframe\">\n",
       "  <thead>\n",
       "    <tr style=\"text-align: right;\">\n",
       "      <th></th>\n",
       "      <th>age</th>\n",
       "      <th>workclass</th>\n",
       "      <th>fnlwgt</th>\n",
       "      <th>education</th>\n",
       "      <th>education-num</th>\n",
       "      <th>marital-status</th>\n",
       "      <th>occupation</th>\n",
       "      <th>relationship</th>\n",
       "      <th>sex</th>\n",
       "      <th>capital-gain</th>\n",
       "      <th>capital-loss</th>\n",
       "      <th>hours-per-week</th>\n",
       "      <th>native-country</th>\n",
       "      <th>Income</th>\n",
       "    </tr>\n",
       "  </thead>\n",
       "  <tbody>\n",
       "    <tr>\n",
       "      <th>0</th>\n",
       "      <td>50</td>\n",
       "      <td>Self-emp-not-inc</td>\n",
       "      <td>83311</td>\n",
       "      <td>Bachelors</td>\n",
       "      <td>13</td>\n",
       "      <td>Married-civ-spouse</td>\n",
       "      <td>Exec-managerial</td>\n",
       "      <td>Husband</td>\n",
       "      <td>Male</td>\n",
       "      <td>0</td>\n",
       "      <td>0</td>\n",
       "      <td>13</td>\n",
       "      <td>United-States</td>\n",
       "      <td>&lt;=50K</td>\n",
       "    </tr>\n",
       "    <tr>\n",
       "      <th>1</th>\n",
       "      <td>38</td>\n",
       "      <td>Private</td>\n",
       "      <td>215646</td>\n",
       "      <td>HS-grad</td>\n",
       "      <td>9</td>\n",
       "      <td>Divorced</td>\n",
       "      <td>Handlers-cleaners</td>\n",
       "      <td>Not-in-family</td>\n",
       "      <td>Male</td>\n",
       "      <td>0</td>\n",
       "      <td>0</td>\n",
       "      <td>40</td>\n",
       "      <td>United-States</td>\n",
       "      <td>&lt;=50K</td>\n",
       "    </tr>\n",
       "    <tr>\n",
       "      <th>2</th>\n",
       "      <td>53</td>\n",
       "      <td>Private</td>\n",
       "      <td>234721</td>\n",
       "      <td>11th</td>\n",
       "      <td>7</td>\n",
       "      <td>Married-civ-spouse</td>\n",
       "      <td>Handlers-cleaners</td>\n",
       "      <td>Husband</td>\n",
       "      <td>Male</td>\n",
       "      <td>0</td>\n",
       "      <td>0</td>\n",
       "      <td>40</td>\n",
       "      <td>United-States</td>\n",
       "      <td>&lt;=50K</td>\n",
       "    </tr>\n",
       "    <tr>\n",
       "      <th>3</th>\n",
       "      <td>28</td>\n",
       "      <td>Private</td>\n",
       "      <td>338409</td>\n",
       "      <td>Bachelors</td>\n",
       "      <td>13</td>\n",
       "      <td>Married-civ-spouse</td>\n",
       "      <td>Prof-specialty</td>\n",
       "      <td>Wife</td>\n",
       "      <td>Female</td>\n",
       "      <td>0</td>\n",
       "      <td>0</td>\n",
       "      <td>40</td>\n",
       "      <td>Cuba</td>\n",
       "      <td>&lt;=50K</td>\n",
       "    </tr>\n",
       "    <tr>\n",
       "      <th>4</th>\n",
       "      <td>37</td>\n",
       "      <td>Private</td>\n",
       "      <td>284582</td>\n",
       "      <td>Masters</td>\n",
       "      <td>14</td>\n",
       "      <td>Married-civ-spouse</td>\n",
       "      <td>Exec-managerial</td>\n",
       "      <td>Wife</td>\n",
       "      <td>Female</td>\n",
       "      <td>0</td>\n",
       "      <td>0</td>\n",
       "      <td>40</td>\n",
       "      <td>United-States</td>\n",
       "      <td>&lt;=50K</td>\n",
       "    </tr>\n",
       "  </tbody>\n",
       "</table>\n",
       "</div>"
      ],
      "text/plain": [
       "   age          workclass  fnlwgt   education  education-num  \\\n",
       "0   50   Self-emp-not-inc   83311   Bachelors             13   \n",
       "1   38            Private  215646     HS-grad              9   \n",
       "2   53            Private  234721        11th              7   \n",
       "3   28            Private  338409   Bachelors             13   \n",
       "4   37            Private  284582     Masters             14   \n",
       "\n",
       "        marital-status          occupation    relationship      sex  \\\n",
       "0   Married-civ-spouse     Exec-managerial         Husband     Male   \n",
       "1             Divorced   Handlers-cleaners   Not-in-family     Male   \n",
       "2   Married-civ-spouse   Handlers-cleaners         Husband     Male   \n",
       "3   Married-civ-spouse      Prof-specialty            Wife   Female   \n",
       "4   Married-civ-spouse     Exec-managerial            Wife   Female   \n",
       "\n",
       "   capital-gain  capital-loss  hours-per-week  native-country  Income  \n",
       "0             0             0              13   United-States   <=50K  \n",
       "1             0             0              40   United-States   <=50K  \n",
       "2             0             0              40   United-States   <=50K  \n",
       "3             0             0              40            Cuba   <=50K  \n",
       "4             0             0              40   United-States   <=50K  "
      ]
     },
     "execution_count": 124,
     "metadata": {},
     "output_type": "execute_result"
    }
   ],
   "source": [
    "# Now let's add the headers to the dataframe\n",
    "adult_income.columns = headers\n",
    "\n",
    "adult_income.head()"
   ]
  },
  {
   "cell_type": "code",
   "execution_count": 125,
   "metadata": {},
   "outputs": [
    {
     "data": {
      "text/plain": [
       "age               0\n",
       "workclass         0\n",
       "fnlwgt            0\n",
       "education         0\n",
       "education-num     0\n",
       "marital-status    0\n",
       "occupation        0\n",
       "relationship      0\n",
       "sex               0\n",
       "capital-gain      0\n",
       "capital-loss      0\n",
       "hours-per-week    0\n",
       "native-country    0\n",
       "Income            0\n",
       "dtype: int64"
      ]
     },
     "execution_count": 125,
     "metadata": {},
     "output_type": "execute_result"
    }
   ],
   "source": [
    "# Step 5 Find the missing values\n",
    "\n",
    "# Find the missing values\n",
    "adult_income.isnull().sum()\n",
    "\n",
    "# It appears there are not any null values"
   ]
  },
  {
   "cell_type": "code",
   "execution_count": 126,
   "metadata": {},
   "outputs": [
    {
     "name": "stdout",
     "output_type": "stream",
     "text": [
      "   age   education          occupation\n",
      "0   50   Bachelors     Exec-managerial\n",
      "1   38     HS-grad   Handlers-cleaners\n",
      "2   53        11th   Handlers-cleaners\n",
      "3   28   Bachelors      Prof-specialty\n",
      "4   37     Masters     Exec-managerial\n",
      "Shape of subset_df: (32560, 3)\n"
     ]
    }
   ],
   "source": [
    "# Step 6 Create a DataFrame with only age, education and occupation by using subsetting\n",
    "subset_df = adult_income.loc[:,['age','education','occupation']]\n",
    "print(subset_df.head())\n",
    "\n",
    "print(f\"Shape of subset_df: {subset_df.shape}\")"
   ]
  },
  {
   "cell_type": "code",
   "execution_count": 127,
   "metadata": {},
   "outputs": [
    {
     "data": {
      "text/plain": [
       "<matplotlib.axes._subplots.AxesSubplot at 0x7fdd0b5e17b8>"
      ]
     },
     "execution_count": 127,
     "metadata": {},
     "output_type": "execute_result"
    },
    {
     "data": {
      "image/png": "[encoded data removed]",
      "text/plain": [
       "<Figure size 432x288 with 1 Axes>"
      ]
     },
     "metadata": {
      "needs_background": "light"
     },
     "output_type": "display_data"
    }
   ],
   "source": [
    "# Step 7 Plot a histogram of age with a bin size of 20\n",
    "subset_df['age'].hist(bins=20)"
   ]
  },
  {
   "cell_type": "code",
   "execution_count": 128,
   "metadata": {},
   "outputs": [
    {
     "name": "stdout",
     "output_type": "stream",
     "text": [
      "This is a test \t str \n",
      " .\n",
      "Thisisateststr.\n"
     ]
    }
   ],
   "source": [
    "import re\n",
    "# Create a function to strip the whitespace characters\n",
    "def strip_whitespace(str_val):\n",
    "    pattern = re.compile(r'\\s')\n",
    "    clean = pattern.sub('', str_val)\n",
    "    return clean\n",
    "\n",
    "\n",
    "# Test out the function to make sure it works properly\n",
    "test_str =\"This is a test \\t str \\n .\"\n",
    "print(test_str)\n",
    "clean_str = strip_whitespace(test_str)\n",
    "print(clean_str)\n"
   ]
  },
  {
   "cell_type": "code",
   "execution_count": 129,
   "metadata": {},
   "outputs": [
    {
     "name": "stdout",
     "output_type": "stream",
     "text": [
      "education\n",
      "occupation\n",
      "   age  education         occupation\n",
      "0   50  Bachelors    Exec-managerial\n",
      "1   38    HS-grad  Handlers-cleaners\n",
      "2   53       11th  Handlers-cleaners\n",
      "3   28  Bachelors     Prof-specialty\n",
      "4   37    Masters    Exec-managerial\n"
     ]
    }
   ],
   "source": [
    "# Step 9\n",
    "# Function looks good let's apply it to all of the columns with string values\n",
    "# First we need to find which columns have string values\n",
    "subset_df.dtypes\n",
    "\n",
    "# Iterate through the columns so we don't have to write a bunch of repetitive code\n",
    "for col in subset_df.columns:\n",
    "    # Check the dtype to see if it equals \"O\" as in Object\n",
    "    if subset_df[col].dtypes == 'O':\n",
    "        print(f\"{col}\")\n",
    "        # Apply the function and apply to temp col to store values\n",
    "        subset_df[f\"{col}_temp\"] = subset_df[col].apply(strip_whitespace)\n",
    "        # Pass temp vals to old col\n",
    "        subset_df[col] = subset_df[f\"{col}_temp\"]\n",
    "        # Drop temp col\n",
    "        subset_df.drop(columns=[f\"{col}_temp\"],inplace=True)\n",
    "\n",
    "# Print the top 5 to make sure it looks good\n",
    "print(subset_df.head())"
   ]
  },
  {
   "cell_type": "code",
   "execution_count": 130,
   "metadata": {},
   "outputs": [
    {
     "name": "stdout",
     "output_type": "stream",
     "text": [
      "There are 16389 people aged 30 to 50.\n"
     ]
    }
   ],
   "source": [
    "# Step 10\n",
    "# Find the number of people who are aged between 30 and 50\n",
    "age_30_50 = subset_df.loc[(subset_df['age'] >= 30) & (subset_df['age'] <= 50),:]\n",
    "\n",
    "print(f\"There are {age_30_50.shape[0]} people aged 30 to 50.\")"
   ]
  },
  {
   "cell_type": "code",
   "execution_count": 131,
   "metadata": {
    "scrolled": true
   },
   "outputs": [
    {
     "name": "stdout",
     "output_type": "stream",
     "text": [
      "                    age\n",
      "education              \n",
      "10th          37.429796\n",
      "11th          32.355745\n",
      "12th          32.000000\n",
      "1st-4th       46.142857\n",
      "5th-6th       42.885886\n",
      "7th-8th       48.445820\n",
      "9th           41.060311\n",
      "Assoc-acdm    37.381443\n",
      "Assoc-voc     38.553546\n",
      "Bachelors     38.904931\n",
      "Doctorate     47.702179\n",
      "HS-grad       38.974479\n",
      "Masters       44.049913\n",
      "Preschool     42.764706\n",
      "Prof-school   44.746528\n",
      "Some-college  35.756275\n"
     ]
    }
   ],
   "source": [
    "#Step 11\n",
    "# Group the records based on age and education to find how the mean age is distributed\n",
    "subset_df.loc[:,'age'] = subset_df['age'].astype('int')\n",
    "age_group = subset_df.groupby(['education']).mean()\n",
    "print(age_group)"
   ]
  },
  {
   "cell_type": "code",
   "execution_count": 132,
   "metadata": {},
   "outputs": [
    {
     "name": "stdout",
     "output_type": "stream",
     "text": [
      "                      age                                                    \n",
      "                    count       mean        std   min   25%   50%   75%   max\n",
      "occupation                                                                   \n",
      "?                  1843.0  40.882800  20.336350  17.0  21.0  35.0  61.0  90.0\n",
      "Adm-clerical       3769.0  36.963916  13.364730  17.0  26.0  35.0  46.0  90.0\n",
      "Armed-Forces          9.0  30.222222   8.089774  23.0  24.0  29.0  34.0  46.0\n",
      "Craft-repair       4099.0  39.031471  11.606436  17.0  30.0  38.0  47.0  90.0\n",
      "Exec-managerial    4066.0  42.169208  11.974548  17.0  33.0  41.0  50.0  90.0\n",
      "Farming-fishing     994.0  41.211268  15.070283  17.0  29.0  39.0  52.0  90.0\n",
      "Handlers-cleaners  1370.0  32.165693  12.372635  17.0  23.0  29.0  39.0  90.0\n",
      "Machine-op-inspct  2002.0  37.715285  12.068266  17.0  28.0  36.0  46.0  90.0\n",
      "Other-service      3295.0  34.949621  14.521508  17.0  22.0  32.0  45.0  90.0\n",
      "Priv-house-serv     149.0  41.724832  18.633688  17.0  24.0  40.0  57.0  81.0\n",
      "Prof-specialty     4140.0  40.517633  12.016676  17.0  31.0  40.0  48.0  90.0\n",
      "Protective-serv     649.0  38.953775  12.822062  17.0  29.0  36.0  47.0  90.0\n",
      "Sales              3650.0  37.353973  14.186352  17.0  25.0  35.0  47.0  90.0\n",
      "Tech-support        928.0  37.022629  11.316594  17.0  28.0  36.0  44.0  73.0\n",
      "Transport-moving   1597.0  40.197871  12.450792  17.0  30.0  39.0  49.0  90.0\n"
     ]
    }
   ],
   "source": [
    "# Step 12 Group by ocupation and show the summary statistics of age. \n",
    "#Find which profession has the oldest workers on average \n",
    "#and which profession has its largest share of the workforce above the 75th percentile\n",
    "occupation_group = subset_df.groupby(['occupation']).describe()\n",
    "print(occupation_group)\n"
   ]
  },
  {
   "cell_type": "code",
   "execution_count": 133,
   "metadata": {},
   "outputs": [
    {
     "name": "stdout",
     "output_type": "stream",
     "text": [
      "MultiIndex([('age', 'count'),\n",
      "            ('age',  'mean'),\n",
      "            ('age',   'std'),\n",
      "            ('age',   'min'),\n",
      "            ('age',   '25%'),\n",
      "            ('age',   '50%'),\n",
      "            ('age',   '75%'),\n",
      "            ('age',   'max')],\n",
      "           )\n",
      "42.16920806689621\n",
      "The profession with the oldest workers on aveage is:\n",
      "Exec-managerial with an aveage age of 42.16920806689621\n"
     ]
    }
   ],
   "source": [
    "# Oldest Workers on Average\n",
    "print(occupation_group.columns)\n",
    "print(occupation_group['age']['mean'].max())\n",
    "oldest_occupation = occupation_group.loc[(occupation_group['age']['mean'] == occupation_group['age']['mean'].max())]\n",
    "print(f\"The profession with the oldest workers on aveage is:\") \n",
    "print(f\"{oldest_occupation.index[0]} with an aveage age of {oldest_occupation['age']['mean'][0]}\")"
   ]
  },
  {
   "cell_type": "code",
   "execution_count": 134,
   "metadata": {},
   "outputs": [
    {
     "name": "stdout",
     "output_type": "stream",
     "text": [
      "61.0\n",
      "The profession with the largest share of the workforce above the 75th percentile is:\n",
      "? with an aveage age of 61.0\n"
     ]
    }
   ],
   "source": [
    "# Largest share of the workforce above the 75th percentile\n",
    "print(occupation_group['age']['75%'].max())\n",
    "largest_occupation = occupation_group.loc[(occupation_group['age']['75%'] == occupation_group['age']['75%'].max())]\n",
    "print(f\"The profession with the largest share of the workforce above the 75th percentile is:\") \n",
    "print(f\"{largest_occupation.index[0]} with an aveage age of {largest_occupation['age']['75%'][0]}\")"
   ]
  },
  {
   "cell_type": "code",
   "execution_count": 135,
   "metadata": {},
   "outputs": [
    {
     "name": "stdout",
     "output_type": "stream",
     "text": [
      "                    count       mean        std   min   25%   50%   75%   max\n",
      "occupation                                                                   \n",
      "?                  1843.0  40.882800  20.336350  17.0  21.0  35.0  61.0  90.0\n",
      "Adm-clerical       3769.0  36.963916  13.364730  17.0  26.0  35.0  46.0  90.0\n",
      "Armed-Forces          9.0  30.222222   8.089774  23.0  24.0  29.0  34.0  46.0\n",
      "Craft-repair       4099.0  39.031471  11.606436  17.0  30.0  38.0  47.0  90.0\n",
      "Exec-managerial    4066.0  42.169208  11.974548  17.0  33.0  41.0  50.0  90.0\n",
      "Farming-fishing     994.0  41.211268  15.070283  17.0  29.0  39.0  52.0  90.0\n",
      "Handlers-cleaners  1370.0  32.165693  12.372635  17.0  23.0  29.0  39.0  90.0\n",
      "Machine-op-inspct  2002.0  37.715285  12.068266  17.0  28.0  36.0  46.0  90.0\n",
      "Other-service      3295.0  34.949621  14.521508  17.0  22.0  32.0  45.0  90.0\n",
      "Priv-house-serv     149.0  41.724832  18.633688  17.0  24.0  40.0  57.0  81.0\n",
      "Prof-specialty     4140.0  40.517633  12.016676  17.0  31.0  40.0  48.0  90.0\n",
      "Protective-serv     649.0  38.953775  12.822062  17.0  29.0  36.0  47.0  90.0\n",
      "Sales              3650.0  37.353973  14.186352  17.0  25.0  35.0  47.0  90.0\n",
      "Tech-support        928.0  37.022629  11.316594  17.0  28.0  36.0  44.0  73.0\n",
      "Transport-moving   1597.0  40.197871  12.450792  17.0  30.0  39.0  49.0  90.0\n"
     ]
    }
   ],
   "source": [
    "# Step 13\n",
    "# Use subset and groupby to find outliers\n",
    "occupation_group = subset_df.groupby('occupation').describe()['age']\n",
    "\n",
    "#Looking at the count for Armed-Forces, we can see that there are only 9 rows that match this.\n",
    "# This is a pretty significant outlier\n",
    "print(occupation_group)"
   ]
  },
  {
   "cell_type": "code",
   "execution_count": 136,
   "metadata": {},
   "outputs": [
    {
     "data": {
      "text/plain": [
       "<BarContainer object of 15 artists>"
      ]
     },
     "execution_count": 136,
     "metadata": {},
     "output_type": "execute_result"
    },
    {
     "data": {
      "image/png": "[encoded data removed]",
      "text/plain": [
       "<Figure size 432x288 with 1 Axes>"
      ]
     },
     "metadata": {
      "needs_background": "light"
     },
     "output_type": "display_data"
    }
   ],
   "source": [
    "# Create a bar graph to show that the Armed Forces category doesn't even register at scale\n",
    "occupation_group['count']\n",
    "plt.barh(y=occupation_group.index,width=occupation_group['count'])\n"
   ]
  },
  {
   "cell_type": "code",
   "execution_count": 137,
   "metadata": {},
   "outputs": [
    {
     "name": "stdout",
     "output_type": "stream",
     "text": [
      "       age      education          occupation\n",
      "22356   51        HS-grad   Machine-op-inspct\n",
      "26008   19           11th               Sales\n",
      "20733   40        HS-grad     Exec-managerial\n",
      "14475   45      Bachelors     Exec-managerial\n",
      "27907   61        7th-8th        Craft-repair\n",
      "27224   58   Some-college                   ?\n",
      "13108   34      Bachelors      Prof-specialty\n",
      "27551   22      Assoc-voc        Adm-clerical\n",
      "14042   22        HS-grad               Sales\n",
      "22341   38        Masters      Prof-specialty\n",
      "29471   49        7th-8th   Handlers-cleaners\n",
      "12462   34   Some-college        Craft-repair\n",
      "25909   66      Bachelors     Exec-managerial\n",
      "21625   38        7th-8th                   ?\n",
      "11161   33        HS-grad       Other-service\n"
     ]
    }
   ],
   "source": [
    "# Create 2 samples of the main dataframe and join them together on a common key\n",
    "df1 = adult_income[['age', 'education', 'occupation']].sample(15,random_state=101)\n",
    "print(df1)"
   ]
  },
  {
   "cell_type": "code",
   "execution_count": 138,
   "metadata": {},
   "outputs": [
    {
     "name": "stdout",
     "output_type": "stream",
     "text": [
      "            marital-status          occupation      sex\n",
      "22356   Married-civ-spouse   Machine-op-inspct   Female\n",
      "26008        Never-married               Sales     Male\n",
      "20733   Married-civ-spouse     Exec-managerial     Male\n",
      "14475   Married-civ-spouse     Exec-managerial     Male\n",
      "27907   Married-civ-spouse        Craft-repair     Male\n",
      "27224        Never-married                   ?   Female\n",
      "13108   Married-civ-spouse      Prof-specialty     Male\n",
      "27551        Never-married        Adm-clerical   Female\n",
      "14042        Never-married               Sales     Male\n",
      "22341        Never-married      Prof-specialty   Female\n",
      "29471   Married-civ-spouse   Handlers-cleaners     Male\n",
      "12462   Married-civ-spouse        Craft-repair     Male\n",
      "25909   Married-civ-spouse     Exec-managerial     Male\n",
      "21625             Divorced                   ?   Female\n",
      "11161   Married-civ-spouse       Other-service   Female\n"
     ]
    }
   ],
   "source": [
    "df2 = adult_income[['marital-status', 'occupation', 'sex']].sample(15,random_state=101)\n",
    "print(df2)"
   ]
  },
  {
   "cell_type": "code",
   "execution_count": 139,
   "metadata": {},
   "outputs": [
    {
     "name": "stdout",
     "output_type": "stream",
     "text": [
      "    age      education          occupation       marital-status      sex\n",
      "0    51        HS-grad   Machine-op-inspct   Married-civ-spouse   Female\n",
      "1    19           11th               Sales        Never-married     Male\n",
      "3    22        HS-grad               Sales        Never-married     Male\n",
      "5    40        HS-grad     Exec-managerial   Married-civ-spouse     Male\n",
      "8    45      Bachelors     Exec-managerial   Married-civ-spouse     Male\n",
      "11   66      Bachelors     Exec-managerial   Married-civ-spouse     Male\n",
      "14   61        7th-8th        Craft-repair   Married-civ-spouse     Male\n",
      "16   34   Some-college        Craft-repair   Married-civ-spouse     Male\n",
      "18   58   Some-college                   ?        Never-married   Female\n",
      "19   58   Some-college                   ?             Divorced   Female\n",
      "20   38        7th-8th                   ?        Never-married   Female\n",
      "21   38        7th-8th                   ?             Divorced   Female\n",
      "22   34      Bachelors      Prof-specialty   Married-civ-spouse     Male\n",
      "23   34      Bachelors      Prof-specialty        Never-married   Female\n",
      "24   38        Masters      Prof-specialty   Married-civ-spouse     Male\n",
      "25   38        Masters      Prof-specialty        Never-married   Female\n",
      "26   22      Assoc-voc        Adm-clerical        Never-married   Female\n",
      "27   49        7th-8th   Handlers-cleaners   Married-civ-spouse     Male\n",
      "28   33        HS-grad       Other-service   Married-civ-spouse   Female\n"
     ]
    }
   ],
   "source": [
    "# Now we merge the two dataframes on the occupation column.\n",
    "# We are using inner join because we want to keep rows where there is a match from both tables\n",
    "merged_df = pd.merge(df1,df2, on='occupation', how='inner').drop_duplicates()\n",
    "print(merged_df)"
   ]
  }
 ],
 "metadata": {
  "kernelspec": {
   "display_name": "Python 3",
   "language": "python",
   "name": "python3"
  },
  "language_info": {
   "codemirror_mode": {
    "name": "ipython",
    "version": 3
   },
   "file_extension": ".py",
   "mimetype": "text/x-python",
   "name": "python",
   "nbconvert_exporter": "python",
   "pygments_lexer": "ipython3",
   "version": "3.6.6"
  }
 },
 "nbformat": 4,
 "nbformat_minor": 2
}
